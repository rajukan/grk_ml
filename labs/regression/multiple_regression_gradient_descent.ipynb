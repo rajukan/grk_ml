{
 "cells": [
  {
   "metadata": {
    "ExecuteTime": {
     "end_time": "2025-06-12T23:09:43.912024Z",
     "start_time": "2025-06-12T23:09:43.901474Z"
    }
   },
   "cell_type": "code",
   "source": "#![title](./img/log.png \"ShowMyImage\")",
   "id": "241ac75bf61de813",
   "outputs": [],
   "execution_count": 1
  },
  {
   "metadata": {},
   "cell_type": "raw",
   "source": [
    "\n",
    "Multiple Regression (gradient descent)\n",
    "\n",
    "In the first notebook we explored multiple regression using a default sklearn model. Now we will use numpy exclusively to solve for the regression weights with gradient descent.\n",
    "\n",
    "In this notebook we will cover estimating multiple regression weights via gradient descent. You will:\n",
    "\n",
    "    Add a constant column of 1's to the DataFrame to account for the intercept\n",
    "    Export the DataFrame or its column(Series) as a Numpy array\n",
    "    Write a predict_output() function using Numpy\n",
    "    Write a numpy function to compute the derivative of the regression weights with respect to a single feature\n",
    "    Write gradient descent function to compute the regression weights given an initial weight vector, step size and tolerance.\n",
    "    Use the gradient descent function to estimate regression weights for multiple features\n",
    "\n"
   ],
   "id": "b16a739cb0dacf38"
  },
  {
   "metadata": {
    "ExecuteTime": {
     "end_time": "2025-06-12T23:09:46.028303Z",
     "start_time": "2025-06-12T23:09:43.925464Z"
    }
   },
   "cell_type": "code",
   "source": [
    "import sklearn, pandas as pd\n",
    "import numpy as np"
   ],
   "id": "e43acd57ee5aca10",
   "outputs": [],
   "execution_count": 2
  },
  {
   "metadata": {
    "ExecuteTime": {
     "end_time": "2025-06-12T23:09:46.166180Z",
     "start_time": "2025-06-12T23:09:46.028303Z"
    }
   },
   "cell_type": "code",
   "source": [
    "full_data = pd.read_csv(\"../regression/data/kc-house-data.csv\", index_col=0)\n",
    "full_data.head()"
   ],
   "id": "c014a25dff8f0787",
   "outputs": [
    {
     "data": {
      "text/plain": [
       "                       date     price  bedrooms  bathrooms  sqft_living  \\\n",
       "id                                                                        \n",
       "7129300520  20141013T000000  221900.0         3       1.00         1180   \n",
       "6414100192  20141209T000000  538000.0         3       2.25         2570   \n",
       "5631500400  20150225T000000  180000.0         2       1.00          770   \n",
       "2487200875  20141209T000000  604000.0         4       3.00         1960   \n",
       "1954400510  20150218T000000  510000.0         3       2.00         1680   \n",
       "\n",
       "            sqft_lot  floors  waterfront  view  condition  grade  sqft_above  \\\n",
       "id                                                                             \n",
       "7129300520      5650     1.0           0     0          3      7        1180   \n",
       "6414100192      7242     2.0           0     0          3      7        2170   \n",
       "5631500400     10000     1.0           0     0          3      6         770   \n",
       "2487200875      5000     1.0           0     0          5      7        1050   \n",
       "1954400510      8080     1.0           0     0          3      8        1680   \n",
       "\n",
       "            sqft_basement  yr_built  yr_renovated  zipcode      lat     long  \\\n",
       "id                                                                             \n",
       "7129300520              0      1955             0    98178  47.5112 -122.257   \n",
       "6414100192            400      1951          1991    98125  47.7210 -122.319   \n",
       "5631500400              0      1933             0    98028  47.7379 -122.233   \n",
       "2487200875            910      1965             0    98136  47.5208 -122.393   \n",
       "1954400510              0      1987             0    98074  47.6168 -122.045   \n",
       "\n",
       "            sqft_living15  sqft_lot15  \n",
       "id                                     \n",
       "7129300520           1340        5650  \n",
       "6414100192           1690        7639  \n",
       "5631500400           2720        8062  \n",
       "2487200875           1360        5000  \n",
       "1954400510           1800        7503  "
      ],
      "text/html": [
       "<div>\n",
       "<style scoped>\n",
       "    .dataframe tbody tr th:only-of-type {\n",
       "        vertical-align: middle;\n",
       "    }\n",
       "\n",
       "    .dataframe tbody tr th {\n",
       "        vertical-align: top;\n",
       "    }\n",
       "\n",
       "    .dataframe thead th {\n",
       "        text-align: right;\n",
       "    }\n",
       "</style>\n",
       "<table border=\"1\" class=\"dataframe\">\n",
       "  <thead>\n",
       "    <tr style=\"text-align: right;\">\n",
       "      <th></th>\n",
       "      <th>date</th>\n",
       "      <th>price</th>\n",
       "      <th>bedrooms</th>\n",
       "      <th>bathrooms</th>\n",
       "      <th>sqft_living</th>\n",
       "      <th>sqft_lot</th>\n",
       "      <th>floors</th>\n",
       "      <th>waterfront</th>\n",
       "      <th>view</th>\n",
       "      <th>condition</th>\n",
       "      <th>grade</th>\n",
       "      <th>sqft_above</th>\n",
       "      <th>sqft_basement</th>\n",
       "      <th>yr_built</th>\n",
       "      <th>yr_renovated</th>\n",
       "      <th>zipcode</th>\n",
       "      <th>lat</th>\n",
       "      <th>long</th>\n",
       "      <th>sqft_living15</th>\n",
       "      <th>sqft_lot15</th>\n",
       "    </tr>\n",
       "    <tr>\n",
       "      <th>id</th>\n",
       "      <th></th>\n",
       "      <th></th>\n",
       "      <th></th>\n",
       "      <th></th>\n",
       "      <th></th>\n",
       "      <th></th>\n",
       "      <th></th>\n",
       "      <th></th>\n",
       "      <th></th>\n",
       "      <th></th>\n",
       "      <th></th>\n",
       "      <th></th>\n",
       "      <th></th>\n",
       "      <th></th>\n",
       "      <th></th>\n",
       "      <th></th>\n",
       "      <th></th>\n",
       "      <th></th>\n",
       "      <th></th>\n",
       "      <th></th>\n",
       "    </tr>\n",
       "  </thead>\n",
       "  <tbody>\n",
       "    <tr>\n",
       "      <th>7129300520</th>\n",
       "      <td>20141013T000000</td>\n",
       "      <td>221900.0</td>\n",
       "      <td>3</td>\n",
       "      <td>1.00</td>\n",
       "      <td>1180</td>\n",
       "      <td>5650</td>\n",
       "      <td>1.0</td>\n",
       "      <td>0</td>\n",
       "      <td>0</td>\n",
       "      <td>3</td>\n",
       "      <td>7</td>\n",
       "      <td>1180</td>\n",
       "      <td>0</td>\n",
       "      <td>1955</td>\n",
       "      <td>0</td>\n",
       "      <td>98178</td>\n",
       "      <td>47.5112</td>\n",
       "      <td>-122.257</td>\n",
       "      <td>1340</td>\n",
       "      <td>5650</td>\n",
       "    </tr>\n",
       "    <tr>\n",
       "      <th>6414100192</th>\n",
       "      <td>20141209T000000</td>\n",
       "      <td>538000.0</td>\n",
       "      <td>3</td>\n",
       "      <td>2.25</td>\n",
       "      <td>2570</td>\n",
       "      <td>7242</td>\n",
       "      <td>2.0</td>\n",
       "      <td>0</td>\n",
       "      <td>0</td>\n",
       "      <td>3</td>\n",
       "      <td>7</td>\n",
       "      <td>2170</td>\n",
       "      <td>400</td>\n",
       "      <td>1951</td>\n",
       "      <td>1991</td>\n",
       "      <td>98125</td>\n",
       "      <td>47.7210</td>\n",
       "      <td>-122.319</td>\n",
       "      <td>1690</td>\n",
       "      <td>7639</td>\n",
       "    </tr>\n",
       "    <tr>\n",
       "      <th>5631500400</th>\n",
       "      <td>20150225T000000</td>\n",
       "      <td>180000.0</td>\n",
       "      <td>2</td>\n",
       "      <td>1.00</td>\n",
       "      <td>770</td>\n",
       "      <td>10000</td>\n",
       "      <td>1.0</td>\n",
       "      <td>0</td>\n",
       "      <td>0</td>\n",
       "      <td>3</td>\n",
       "      <td>6</td>\n",
       "      <td>770</td>\n",
       "      <td>0</td>\n",
       "      <td>1933</td>\n",
       "      <td>0</td>\n",
       "      <td>98028</td>\n",
       "      <td>47.7379</td>\n",
       "      <td>-122.233</td>\n",
       "      <td>2720</td>\n",
       "      <td>8062</td>\n",
       "    </tr>\n",
       "    <tr>\n",
       "      <th>2487200875</th>\n",
       "      <td>20141209T000000</td>\n",
       "      <td>604000.0</td>\n",
       "      <td>4</td>\n",
       "      <td>3.00</td>\n",
       "      <td>1960</td>\n",
       "      <td>5000</td>\n",
       "      <td>1.0</td>\n",
       "      <td>0</td>\n",
       "      <td>0</td>\n",
       "      <td>5</td>\n",
       "      <td>7</td>\n",
       "      <td>1050</td>\n",
       "      <td>910</td>\n",
       "      <td>1965</td>\n",
       "      <td>0</td>\n",
       "      <td>98136</td>\n",
       "      <td>47.5208</td>\n",
       "      <td>-122.393</td>\n",
       "      <td>1360</td>\n",
       "      <td>5000</td>\n",
       "    </tr>\n",
       "    <tr>\n",
       "      <th>1954400510</th>\n",
       "      <td>20150218T000000</td>\n",
       "      <td>510000.0</td>\n",
       "      <td>3</td>\n",
       "      <td>2.00</td>\n",
       "      <td>1680</td>\n",
       "      <td>8080</td>\n",
       "      <td>1.0</td>\n",
       "      <td>0</td>\n",
       "      <td>0</td>\n",
       "      <td>3</td>\n",
       "      <td>8</td>\n",
       "      <td>1680</td>\n",
       "      <td>0</td>\n",
       "      <td>1987</td>\n",
       "      <td>0</td>\n",
       "      <td>98074</td>\n",
       "      <td>47.6168</td>\n",
       "      <td>-122.045</td>\n",
       "      <td>1800</td>\n",
       "      <td>7503</td>\n",
       "    </tr>\n",
       "  </tbody>\n",
       "</table>\n",
       "</div>"
      ]
     },
     "execution_count": 3,
     "metadata": {},
     "output_type": "execute_result"
    }
   ],
   "execution_count": 3
  },
  {
   "metadata": {},
   "cell_type": "raw",
   "source": [
    "\n",
    "Convert to Numpy Array\n",
    "\n",
    "In order to understand the details of the implementation of algorithms, it's important to work with a library that allows for direct (and optimized) matrix operations. Numpy is a Python solution to work with matrices (or any multi-dimensional \"array\").\n",
    "\n",
    "Recall that the predicted value given the weights and the features is just the dot product between the feature and weight vector. Similarly, if we put all of the features row-by-row in a matrix then the predicted value for all the observations can be computed by right multiplying the \"feature matrix\" by the \"weight vector\".\n",
    "\n",
    "First we need to take our organized DataFrame and extract the underlying data as a 2D numpy array (also called a matrix). To do this we can use Panda's .values property to convert the dataframe into a numpy matrix.\n"
   ],
   "id": "c983ae144468b82d"
  },
  {
   "metadata": {
    "ExecuteTime": {
     "end_time": "2025-06-12T23:09:46.178736Z",
     "start_time": "2025-06-12T23:09:46.169790Z"
    }
   },
   "cell_type": "code",
   "source": [
    "def convert_to_numpy_matrix(data,features_list,output_name):\n",
    "    #add constant if missing, intercept\n",
    "    if 'constant' not in data:\n",
    "        data['constant'] = 1\n",
    "    \n",
    "    features_list = ['constant'] + features_list #combine 2 lists\n",
    "    df_features_matrix = data[features_list].values\n",
    "    output_array = data[output_name].values\n",
    "    return (df_features_matrix,output_array)"
   ],
   "id": "a7fb5898474086c9",
   "outputs": [],
   "execution_count": 4
  },
  {
   "metadata": {
    "ExecuteTime": {
     "end_time": "2025-06-12T23:09:46.190247Z",
     "start_time": "2025-06-12T23:09:46.180696Z"
    }
   },
   "cell_type": "code",
   "source": [
    "#For testing let's use the 'sqft_living' feature and a constant as our features and price as our output:\n",
    "(example_features,example_output)=convert_to_numpy_matrix(full_data,['sqft_living'],'price')"
   ],
   "id": "2cc5d666696716cd",
   "outputs": [],
   "execution_count": 5
  },
  {
   "metadata": {
    "ExecuteTime": {
     "end_time": "2025-06-12T23:09:46.199459Z",
     "start_time": "2025-06-12T23:09:46.191771Z"
    }
   },
   "cell_type": "code",
   "source": [
    "print(example_features[0,:]) #0 => only first row, : => all columns\n",
    "print(example_output[0])"
   ],
   "id": "f527ee4306218768",
   "outputs": [
    {
     "name": "stdout",
     "output_type": "stream",
     "text": [
      "[   1 1180]\n",
      "221900.0\n"
     ]
    }
   ],
   "execution_count": 6
  },
  {
   "metadata": {},
   "cell_type": "raw",
   "source": [
    "\n",
    "Predicting output given regression weights\n",
    "\n",
    "Suppose we had the weights [3.0, 2.0] and the features [1.0, 1180.0] and we wanted to compute the predicted output\n",
    "\n",
    "3.0 * 1.0 + 2.0 * 1180 = 2363 (this is the dot product between these two arrays). If they're numpy arrays we can use np.dot to compute this:"
   ],
   "id": "4f32a8c169334b"
  },
  {
   "metadata": {
    "ExecuteTime": {
     "end_time": "2025-06-12T23:09:46.209006Z",
     "start_time": "2025-06-12T23:09:46.199459Z"
    }
   },
   "cell_type": "code",
   "source": [
    "my_weights = np.array([3.,2.]) #example weights\n",
    "my_features = example_features[0,] # we will use the first data point\n",
    "\n",
    "predicted_value = np.dot(my_features,my_weights)\n",
    "print(f\" {my_weights=}, {my_features=},{predicted_value=}\")\n"
   ],
   "id": "d6dd98b90d9ef1cb",
   "outputs": [
    {
     "name": "stdout",
     "output_type": "stream",
     "text": [
      " my_weights=array([3., 2.]), my_features=array([   1, 1180], dtype=int64),predicted_value=2363.0\n"
     ]
    }
   ],
   "execution_count": 7
  },
  {
   "metadata": {},
   "cell_type": "raw",
   "source": "np.dot also works when dealing with a matrix and a vector. Recall that the predictions from all the observations is just the RIGHT (as in weights on the right) dot product between the features matrix and the weights vector. With this in mind finish the following predict_output function to compute the predictions for an entire matrix of features given the matrix and the weights:",
   "id": "d65df2d461d7f108"
  },
  {
   "metadata": {
    "ExecuteTime": {
     "end_time": "2025-06-12T23:09:46.215223Z",
     "start_time": "2025-06-12T23:09:46.209006Z"
    }
   },
   "cell_type": "code",
   "source": [
    "def predict_output(feature_matrix, weights):\n",
    "    # assume feature_matrix is a numpy matrix containing the features as columns and weights is a corresponding numpy array\n",
    "    # create the predictions vector by using np.dot()\n",
    "    return (np.dot(feature_matrix,weights))"
   ],
   "id": "a2141476645765a8",
   "outputs": [],
   "execution_count": 8
  },
  {
   "metadata": {
    "ExecuteTime": {
     "end_time": "2025-06-12T23:09:46.223917Z",
     "start_time": "2025-06-12T23:09:46.216249Z"
    }
   },
   "cell_type": "code",
   "source": [
    "my_new_weights=[1.,1.]\n",
    "test_predictions = predict_output(example_features,my_new_weights)\n",
    "print(test_predictions)"
   ],
   "id": "23165966eb181aa4",
   "outputs": [
    {
     "name": "stdout",
     "output_type": "stream",
     "text": [
      "[1181. 2571.  771. ... 1021. 1601. 1021.]\n"
     ]
    }
   ],
   "execution_count": 9
  },
  {
   "metadata": {},
   "cell_type": "markdown",
   "source": "![title](./images/img1.png \"ShowMyImage\")",
   "id": "cdae1b07e684149"
  },
  {
   "metadata": {},
   "cell_type": "raw",
   "source": "With this in mind complete the following derivative function which computes the derivative of the weight given the value of the feature (over all data points) and the errors (over all data points).",
   "id": "cb283432e79ba97f"
  },
  {
   "metadata": {
    "ExecuteTime": {
     "end_time": "2025-06-12T23:09:46.232643Z",
     "start_time": "2025-06-12T23:09:46.225951Z"
    }
   },
   "cell_type": "code",
   "source": [
    "def feature_derivative(errors,feature):\n",
    "# Assume that errors and feature are both numpy arrays of the same length (number of data points)\n",
    "# compute twice the dot product of these vectors as 'derivative' and return the value\n",
    "    derivative = np.sum(2*errors*feature)\n",
    "    return derivative"
   ],
   "id": "49a711c58fa1a20a",
   "outputs": [],
   "execution_count": 10
  },
  {
   "metadata": {
    "ExecuteTime": {
     "end_time": "2025-06-12T23:09:46.246925Z",
     "start_time": "2025-06-12T23:09:46.236973Z"
    }
   },
   "cell_type": "code",
   "source": [
    "(example_features,example_output)=convert_to_numpy_matrix(full_data,['sqft_living'],'price')\n",
    "my_weights=np.array([0.,0.])\n",
    "test_predictions=predict_output(example_features,my_weights)\n",
    "test_predictions\n",
    "# just like SFrames 2 numpy arrays can be elementwise subtracted with '-': \n",
    "errors = test_predictions - example_output\n",
    "\n",
    "# let's compute the derivative with respect to 'constant', the \":\" indicates \"all rows\"\n",
    "feature = example_features[:,0]\n",
    "derivative = feature_derivative(errors,feature)\n",
    "print(errors)\n",
    "print(derivative)\n",
    "print(-np.sum(example_output)*2) #should be the same as derivative"
   ],
   "id": "34449ccbd0baebf8",
   "outputs": [
    {
     "name": "stdout",
     "output_type": "stream",
     "text": [
      "[-221900. -538000. -180000. ... -402101. -400000. -325000.]\n",
      "-23345850016.0\n",
      "-23345850016.0\n"
     ]
    }
   ],
   "execution_count": 11
  },
  {
   "metadata": {},
   "cell_type": "raw",
   "source": [
    "\n",
    "Enter Gradient Descent\n",
    "\n",
    "Now we will write a function that performs a gradient descent. The basic premise is simple. Given a starting point we update the current weights by moving in the negative gradient direction. Recall that the gradient is the direction of increase and therefore the negative gradient is the direction of decrease and we're trying to minimize a cost function.\n",
    "\n",
    "The amount by which we move in the negative gradient direction is called the 'step size'. We stop when we are 'sufficiently close' to the optimum. We define this by requiring that the magnitude (length) of the gradient vector to be smaller than a fixed 'tolerance'.\n",
    "\n",
    "With this in mind, complete the following gradient descent function below using your derivative function above. For each step in the gradient descent we update the weight for each feature before computing our stopping criteria\n"
   ],
   "id": "893ccd72ccb66a1a"
  },
  {
   "metadata": {
    "ExecuteTime": {
     "end_time": "2025-06-12T23:09:46.255218Z",
     "start_time": "2025-06-12T23:09:46.248941Z"
    }
   },
   "cell_type": "code",
   "source": [
    "from math import sqrt\n",
    "\n",
    "def reg_gradient_descent(feature_matrix,output,initial_weights,step_size,tolerance):\n",
    "    converged=False\n",
    "    weights = np.array(initial_weights)\n",
    "    while not converged:\n",
    "        #compute predictions\n",
    "        predictions = predict_output(feature_matrix, weights)\n",
    "        #predictions - actual output\n",
    "        errors = predictions - output\n",
    "        gradient_sum_squares =0\n",
    "        \n",
    "        for i in range(len(weights)):\n",
    "    # Recall that feature_matrix[:, i] is the feature column associated with weights[i]\n",
    "    # compute the derivative for weight[i]:\n",
    "            derivative = feature_derivative(errors,feature_matrix[:,i])\n",
    "            # add the squared value of the derivative to the gradient sum of squares (for assessing convergence)\n",
    "            gradient_sum_squares+=np.square(derivative)\n",
    "            # subtract the step size times the derivative from the current weight\n",
    "            weights[i] = weights[i] - step_size*derivative\n",
    "            print(f\"{weights[i]=}\")\n",
    "        # compute the square-root of the gradient sum of squares to get the gradient magnitude:\n",
    "        gradient_magnitude = sqrt(gradient_sum_squares)\n",
    "        if gradient_magnitude < tolerance:\n",
    "            print(f\"{gradient_magnitude=}\")\n",
    "            converged = True\n",
    "    return(weights)            \n"
   ],
   "id": "25f483415dd53538",
   "outputs": [],
   "execution_count": 12
  },
  {
   "metadata": {},
   "cell_type": "raw",
   "source": [
    "\n",
    "\n",
    "A few things to note before we run the gradient descent. Since the gradient is a sum over all the data points and involves a product of an error and a feature the gradient itself will be very large since the features are large (squarefeet) and the output is large (prices). So while you might expect \"tolerance\" to be small, small is only relative to the size of the features.\n",
    "\n",
    "For similar reasons the step size will be much smaller than you might expect but this is because the gradient has such large values.\n"
   ],
   "id": "45f8ab02be5aea1c"
  },
  {
   "metadata": {},
   "cell_type": "raw",
   "source": [
    "\n",
    "Running the Gradient Descent as Simple Regression\n",
    "\n",
    "First let's split the data into training and test data.\n"
   ],
   "id": "597ec4c9b5fc73ca"
  },
  {
   "metadata": {
    "ExecuteTime": {
     "end_time": "2025-06-12T23:09:46.418871Z",
     "start_time": "2025-06-12T23:09:46.255218Z"
    }
   },
   "cell_type": "code",
   "source": [
    "from sklearn.model_selection import train_test_split\n",
    "train_data, test_data = train_test_split(full_data, train_size=0.8, test_size=0.2, random_state=0)"
   ],
   "id": "e48f3963fc71999b",
   "outputs": [],
   "execution_count": 13
  },
  {
   "metadata": {},
   "cell_type": "raw",
   "source": "Although the gradient descent is designed for multiple regression since the constant is now a feature we can use the gradient descent function to estimate the parameters in the simple regression on squarefeet. The folowing cell sets up the feature_matrix, output, initial weights and step size for the first model:",
   "id": "b9922d4d31b2f706"
  },
  {
   "metadata": {
    "ExecuteTime": {
     "end_time": "2025-06-12T23:09:46.425376Z",
     "start_time": "2025-06-12T23:09:46.418871Z"
    }
   },
   "cell_type": "code",
   "source": [
    "# let's test out the gradient descent\n",
    "simple_features = ['sqft_living']\n",
    "my_output = 'price'\n",
    "(simple_feature_matrix, output) = convert_to_numpy_matrix(train_data, simple_features, my_output)\n",
    "initial_weights = np.array([-47000., 1.])\n",
    "step_size = 7e-12\n",
    "tolerance = 2.5e7"
   ],
   "id": "50f68fe5354d965d",
   "outputs": [],
   "execution_count": 14
  },
  {
   "metadata": {
    "ExecuteTime": {
     "end_time": "2025-06-12T23:10:49.054432Z",
     "start_time": "2025-06-12T23:10:49.037078Z"
    }
   },
   "cell_type": "code",
   "source": "updated_weights = reg_gradient_descent(simple_feature_matrix, output, initial_weights, step_size, tolerance)",
   "id": "79fad81a76e136d4",
   "outputs": [
    {
     "name": "stdout",
     "output_type": "stream",
     "text": [
      "weights[i]=-46999.857736879\n",
      "weights[i]=355.489581216176\n",
      "weights[i]=-46999.89407547345\n",
      "weights[i]=265.09794167400736\n",
      "weights[i]=-46999.88487224454\n",
      "weights[i]=288.1469928825168\n",
      "weights[i]=-46999.887281769006\n",
      "weights[i]=282.26969315165684\n",
      "weights[i]=-46999.88673014631\n",
      "weights[i]=283.7683514930775\n",
      "weights[i]=-46999.886933589376\n",
      "weights[i]=283.38620718510504\n",
      "weights[i]=-46999.88694449749\n",
      "weights[i]=283.4836505552754\n",
      "weights[i]=-46999.88700450028\n",
      "weights[i]=283.4588034017161\n",
      "weights[i]=-46999.88705198436\n",
      "weights[i]=283.4651392265269\n",
      "weights[i]=-46999.88710266061\n",
      "weights[i]=283.4635236736645\n",
      "weights[i]=-46999.887152522875\n",
      "weights[i]=283.4639356502494\n",
      "weights[i]=-46999.8872025927\n",
      "weights[i]=283.4638306251488\n",
      "gradient_magnitude=16621389.452372102\n"
     ]
    }
   ],
   "execution_count": 16
  },
  {
   "metadata": {},
   "cell_type": "raw",
   "source": "Quiz Question: What is the value of the weight for sqft_living -- the second element of ‘simple_weights’ (rounded to 1 decimal place)?",
   "id": "e8f11f4fc9133eb0"
  },
  {
   "metadata": {
    "ExecuteTime": {
     "end_time": "2025-06-12T23:09:46.447386Z",
     "start_time": "2025-06-12T23:09:46.444952Z"
    }
   },
   "cell_type": "code",
   "source": "",
   "id": "27b62891027911b9",
   "outputs": [],
   "execution_count": 15
  },
  {
   "metadata": {
    "ExecuteTime": {
     "end_time": "2025-06-12T23:09:46.452474Z",
     "start_time": "2025-06-12T23:09:46.447386Z"
    }
   },
   "cell_type": "code",
   "source": "",
   "id": "f0cbe8e4bad5fe21",
   "outputs": [],
   "execution_count": 15
  },
  {
   "metadata": {
    "ExecuteTime": {
     "end_time": "2025-06-12T23:09:46.456170Z",
     "start_time": "2025-06-12T23:09:46.452474Z"
    }
   },
   "cell_type": "code",
   "source": "",
   "id": "9490f170e5625e62",
   "outputs": [],
   "execution_count": 15
  },
  {
   "metadata": {
    "ExecuteTime": {
     "end_time": "2025-06-12T23:09:46.459839Z",
     "start_time": "2025-06-12T23:09:46.456170Z"
    }
   },
   "cell_type": "code",
   "source": "",
   "id": "c0fa2fe184076073",
   "outputs": [],
   "execution_count": 15
  },
  {
   "metadata": {
    "ExecuteTime": {
     "end_time": "2025-06-12T23:09:46.464668Z",
     "start_time": "2025-06-12T23:09:46.460854Z"
    }
   },
   "cell_type": "code",
   "source": "",
   "id": "559d0828fdc92955",
   "outputs": [],
   "execution_count": 15
  },
  {
   "metadata": {
    "ExecuteTime": {
     "end_time": "2025-06-12T23:09:46.469620Z",
     "start_time": "2025-06-12T23:09:46.466185Z"
    }
   },
   "cell_type": "code",
   "source": "",
   "id": "86f7a3fbfdd96bc3",
   "outputs": [],
   "execution_count": 15
  },
  {
   "metadata": {
    "ExecuteTime": {
     "end_time": "2025-06-12T23:09:46.473730Z",
     "start_time": "2025-06-12T23:09:46.469620Z"
    }
   },
   "cell_type": "code",
   "source": "",
   "id": "215de8ca7bc36517",
   "outputs": [],
   "execution_count": 15
  },
  {
   "metadata": {
    "ExecuteTime": {
     "end_time": "2025-06-12T23:09:46.477019Z",
     "start_time": "2025-06-12T23:09:46.473730Z"
    }
   },
   "cell_type": "code",
   "source": "",
   "id": "7d7e508c631ca4bb",
   "outputs": [],
   "execution_count": 15
  },
  {
   "metadata": {
    "ExecuteTime": {
     "end_time": "2025-06-12T23:09:46.480035Z",
     "start_time": "2025-06-12T23:09:46.477019Z"
    }
   },
   "cell_type": "code",
   "source": "",
   "id": "dfda3708ef768ee7",
   "outputs": [],
   "execution_count": 15
  },
  {
   "metadata": {
    "ExecuteTime": {
     "end_time": "2025-06-12T23:09:46.484198Z",
     "start_time": "2025-06-12T23:09:46.480035Z"
    }
   },
   "cell_type": "code",
   "source": "",
   "id": "afb3cf5ab07ee5d9",
   "outputs": [],
   "execution_count": 15
  },
  {
   "metadata": {
    "ExecuteTime": {
     "end_time": "2025-06-12T23:09:46.487918Z",
     "start_time": "2025-06-12T23:09:46.484198Z"
    }
   },
   "cell_type": "code",
   "source": "",
   "id": "a9437837b60fae11",
   "outputs": [],
   "execution_count": 15
  },
  {
   "metadata": {
    "ExecuteTime": {
     "end_time": "2025-06-12T23:09:46.491173Z",
     "start_time": "2025-06-12T23:09:46.487918Z"
    }
   },
   "cell_type": "code",
   "source": "",
   "id": "ad9b90a046d1fac",
   "outputs": [],
   "execution_count": 15
  },
  {
   "metadata": {
    "ExecuteTime": {
     "end_time": "2025-06-12T23:09:46.497948Z",
     "start_time": "2025-06-12T23:09:46.492191Z"
    }
   },
   "cell_type": "code",
   "source": "",
   "id": "549f47b4ea2a7bf6",
   "outputs": [],
   "execution_count": 15
  },
  {
   "metadata": {
    "ExecuteTime": {
     "end_time": "2025-06-12T23:09:46.501855Z",
     "start_time": "2025-06-12T23:09:46.497948Z"
    }
   },
   "cell_type": "code",
   "source": "",
   "id": "7899d9c8798fcfd4",
   "outputs": [],
   "execution_count": 15
  },
  {
   "metadata": {
    "ExecuteTime": {
     "end_time": "2025-06-12T23:09:46.506201Z",
     "start_time": "2025-06-12T23:09:46.501855Z"
    }
   },
   "cell_type": "code",
   "source": "",
   "id": "cd3655cbbc73d010",
   "outputs": [],
   "execution_count": 15
  },
  {
   "metadata": {
    "ExecuteTime": {
     "end_time": "2025-06-12T23:09:46.509341Z",
     "start_time": "2025-06-12T23:09:46.506201Z"
    }
   },
   "cell_type": "code",
   "source": "",
   "id": "9796215ebde58937",
   "outputs": [],
   "execution_count": 15
  },
  {
   "metadata": {
    "ExecuteTime": {
     "end_time": "2025-06-12T23:09:46.513006Z",
     "start_time": "2025-06-12T23:09:46.509341Z"
    }
   },
   "cell_type": "code",
   "source": "",
   "id": "f369d8611797224a",
   "outputs": [],
   "execution_count": 15
  },
  {
   "metadata": {
    "ExecuteTime": {
     "end_time": "2025-06-12T23:09:46.517376Z",
     "start_time": "2025-06-12T23:09:46.513006Z"
    }
   },
   "cell_type": "code",
   "source": "",
   "id": "d48b22263057a364",
   "outputs": [],
   "execution_count": 15
  },
  {
   "metadata": {
    "ExecuteTime": {
     "end_time": "2025-06-12T23:09:46.522889Z",
     "start_time": "2025-06-12T23:09:46.517376Z"
    }
   },
   "cell_type": "code",
   "source": "",
   "id": "2d3705e37ce4ebff",
   "outputs": [],
   "execution_count": 15
  },
  {
   "metadata": {
    "ExecuteTime": {
     "end_time": "2025-06-12T23:09:46.526239Z",
     "start_time": "2025-06-12T23:09:46.523911Z"
    }
   },
   "cell_type": "code",
   "source": "",
   "id": "627ede53160d899a",
   "outputs": [],
   "execution_count": 15
  },
  {
   "metadata": {
    "ExecuteTime": {
     "end_time": "2025-06-12T23:09:46.530531Z",
     "start_time": "2025-06-12T23:09:46.526239Z"
    }
   },
   "cell_type": "code",
   "source": "",
   "id": "949ea2b8fab8c98a",
   "outputs": [],
   "execution_count": 15
  },
  {
   "metadata": {
    "ExecuteTime": {
     "end_time": "2025-06-12T23:09:46.534860Z",
     "start_time": "2025-06-12T23:09:46.530531Z"
    }
   },
   "cell_type": "code",
   "source": "",
   "id": "b1886068f074844c",
   "outputs": [],
   "execution_count": 15
  },
  {
   "metadata": {
    "ExecuteTime": {
     "end_time": "2025-06-12T23:09:46.539374Z",
     "start_time": "2025-06-12T23:09:46.534860Z"
    }
   },
   "cell_type": "code",
   "source": "",
   "id": "87b20f844d78d019",
   "outputs": [],
   "execution_count": 15
  },
  {
   "metadata": {
    "ExecuteTime": {
     "end_time": "2025-06-12T23:09:46.543658Z",
     "start_time": "2025-06-12T23:09:46.539374Z"
    }
   },
   "cell_type": "code",
   "source": "",
   "id": "ed38b633806065d2",
   "outputs": [],
   "execution_count": 15
  },
  {
   "metadata": {
    "ExecuteTime": {
     "end_time": "2025-06-12T23:09:46.554832Z",
     "start_time": "2025-06-12T23:09:46.543658Z"
    }
   },
   "cell_type": "code",
   "source": "",
   "id": "bc29b27925c575db",
   "outputs": [],
   "execution_count": 15
  },
  {
   "metadata": {
    "ExecuteTime": {
     "end_time": "2025-06-12T23:09:46.560132Z",
     "start_time": "2025-06-12T23:09:46.557142Z"
    }
   },
   "cell_type": "code",
   "source": "",
   "id": "69d42c3a6644b49d",
   "outputs": [],
   "execution_count": 15
  },
  {
   "metadata": {
    "ExecuteTime": {
     "end_time": "2025-06-12T23:09:46.563844Z",
     "start_time": "2025-06-12T23:09:46.560132Z"
    }
   },
   "cell_type": "code",
   "source": "",
   "id": "18a1cc865dd88b7a",
   "outputs": [],
   "execution_count": 15
  },
  {
   "metadata": {
    "ExecuteTime": {
     "end_time": "2025-06-12T23:09:46.568209Z",
     "start_time": "2025-06-12T23:09:46.563844Z"
    }
   },
   "cell_type": "code",
   "source": "",
   "id": "a56c0613120e1306",
   "outputs": [],
   "execution_count": 15
  },
  {
   "metadata": {
    "ExecuteTime": {
     "end_time": "2025-06-12T23:09:46.572984Z",
     "start_time": "2025-06-12T23:09:46.568209Z"
    }
   },
   "cell_type": "code",
   "source": "",
   "id": "bb9971d640a76d35",
   "outputs": [],
   "execution_count": 15
  },
  {
   "metadata": {
    "ExecuteTime": {
     "end_time": "2025-06-12T23:09:46.577973Z",
     "start_time": "2025-06-12T23:09:46.572984Z"
    }
   },
   "cell_type": "code",
   "source": "",
   "id": "d707a50a8965256e",
   "outputs": [],
   "execution_count": 15
  },
  {
   "metadata": {
    "ExecuteTime": {
     "end_time": "2025-06-12T23:09:46.583188Z",
     "start_time": "2025-06-12T23:09:46.577973Z"
    }
   },
   "cell_type": "code",
   "source": "",
   "id": "9d5e1cabc7a29873",
   "outputs": [],
   "execution_count": 15
  },
  {
   "metadata": {
    "ExecuteTime": {
     "end_time": "2025-06-12T23:09:46.588986Z",
     "start_time": "2025-06-12T23:09:46.585054Z"
    }
   },
   "cell_type": "code",
   "source": "",
   "id": "ac35f939568eb839",
   "outputs": [],
   "execution_count": 15
  },
  {
   "metadata": {
    "ExecuteTime": {
     "end_time": "2025-06-12T23:09:46.593229Z",
     "start_time": "2025-06-12T23:09:46.588986Z"
    }
   },
   "cell_type": "code",
   "source": "",
   "id": "874faa41bfe991c",
   "outputs": [],
   "execution_count": 15
  },
  {
   "metadata": {
    "ExecuteTime": {
     "end_time": "2025-06-12T23:09:46.598810Z",
     "start_time": "2025-06-12T23:09:46.595257Z"
    }
   },
   "cell_type": "code",
   "source": "",
   "id": "16a64fd259f9a2bb",
   "outputs": [],
   "execution_count": 15
  },
  {
   "metadata": {
    "ExecuteTime": {
     "end_time": "2025-06-12T23:09:46.605456Z",
     "start_time": "2025-06-12T23:09:46.599831Z"
    }
   },
   "cell_type": "code",
   "source": "",
   "id": "f9e67c6d7d39733f",
   "outputs": [],
   "execution_count": 15
  },
  {
   "metadata": {
    "ExecuteTime": {
     "end_time": "2025-06-12T23:09:46.608432Z",
     "start_time": "2025-06-12T23:09:46.605456Z"
    }
   },
   "cell_type": "code",
   "source": "",
   "id": "808d90d1d0f4383c",
   "outputs": [],
   "execution_count": 15
  }
 ],
 "metadata": {
  "kernelspec": {
   "display_name": "Python 3",
   "language": "python",
   "name": "python3"
  },
  "language_info": {
   "codemirror_mode": {
    "name": "ipython",
    "version": 2
   },
   "file_extension": ".py",
   "mimetype": "text/x-python",
   "name": "python",
   "nbconvert_exporter": "python",
   "pygments_lexer": "ipython2",
   "version": "2.7.6"
  }
 },
 "nbformat": 4,
 "nbformat_minor": 5
}
