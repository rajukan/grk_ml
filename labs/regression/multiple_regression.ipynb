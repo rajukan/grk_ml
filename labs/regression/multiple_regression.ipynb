{
 "cells": [
  {
   "metadata": {},
   "cell_type": "code",
   "outputs": [],
   "execution_count": null,
   "source": "#![title](./img/log.png \"ShowMyImage\")",
   "id": "241ac75bf61de813"
  },
  {
   "metadata": {
    "ExecuteTime": {
     "end_time": "2025-06-08T20:50:03.640482Z",
     "start_time": "2025-06-08T20:50:01.579735Z"
    }
   },
   "cell_type": "code",
   "source": [
    "import sklearn\n",
    "import pandas as pd\n",
    "import numpy as np"
   ],
   "id": "e44241733f259dfe",
   "outputs": [],
   "execution_count": 1
  },
  {
   "metadata": {
    "ExecuteTime": {
     "end_time": "2025-06-08T20:50:18.183451Z",
     "start_time": "2025-06-08T20:50:18.105097Z"
    }
   },
   "cell_type": "code",
   "source": [
    "full_data = pd.read_csv(\"./data/kc-house-data.csv\",index_col=0)\n",
    "full_data.head()"
   ],
   "id": "e43acd57ee5aca10",
   "outputs": [
    {
     "data": {
      "text/plain": [
       "                       date     price  bedrooms  bathrooms  sqft_living  \\\n",
       "id                                                                        \n",
       "7129300520  20141013T000000  221900.0         3       1.00         1180   \n",
       "6414100192  20141209T000000  538000.0         3       2.25         2570   \n",
       "5631500400  20150225T000000  180000.0         2       1.00          770   \n",
       "2487200875  20141209T000000  604000.0         4       3.00         1960   \n",
       "1954400510  20150218T000000  510000.0         3       2.00         1680   \n",
       "\n",
       "            sqft_lot  floors  waterfront  view  condition  grade  sqft_above  \\\n",
       "id                                                                             \n",
       "7129300520      5650     1.0           0     0          3      7        1180   \n",
       "6414100192      7242     2.0           0     0          3      7        2170   \n",
       "5631500400     10000     1.0           0     0          3      6         770   \n",
       "2487200875      5000     1.0           0     0          5      7        1050   \n",
       "1954400510      8080     1.0           0     0          3      8        1680   \n",
       "\n",
       "            sqft_basement  yr_built  yr_renovated  zipcode      lat     long  \\\n",
       "id                                                                             \n",
       "7129300520              0      1955             0    98178  47.5112 -122.257   \n",
       "6414100192            400      1951          1991    98125  47.7210 -122.319   \n",
       "5631500400              0      1933             0    98028  47.7379 -122.233   \n",
       "2487200875            910      1965             0    98136  47.5208 -122.393   \n",
       "1954400510              0      1987             0    98074  47.6168 -122.045   \n",
       "\n",
       "            sqft_living15  sqft_lot15  \n",
       "id                                     \n",
       "7129300520           1340        5650  \n",
       "6414100192           1690        7639  \n",
       "5631500400           2720        8062  \n",
       "2487200875           1360        5000  \n",
       "1954400510           1800        7503  "
      ],
      "text/html": [
       "<div>\n",
       "<style scoped>\n",
       "    .dataframe tbody tr th:only-of-type {\n",
       "        vertical-align: middle;\n",
       "    }\n",
       "\n",
       "    .dataframe tbody tr th {\n",
       "        vertical-align: top;\n",
       "    }\n",
       "\n",
       "    .dataframe thead th {\n",
       "        text-align: right;\n",
       "    }\n",
       "</style>\n",
       "<table border=\"1\" class=\"dataframe\">\n",
       "  <thead>\n",
       "    <tr style=\"text-align: right;\">\n",
       "      <th></th>\n",
       "      <th>date</th>\n",
       "      <th>price</th>\n",
       "      <th>bedrooms</th>\n",
       "      <th>bathrooms</th>\n",
       "      <th>sqft_living</th>\n",
       "      <th>sqft_lot</th>\n",
       "      <th>floors</th>\n",
       "      <th>waterfront</th>\n",
       "      <th>view</th>\n",
       "      <th>condition</th>\n",
       "      <th>grade</th>\n",
       "      <th>sqft_above</th>\n",
       "      <th>sqft_basement</th>\n",
       "      <th>yr_built</th>\n",
       "      <th>yr_renovated</th>\n",
       "      <th>zipcode</th>\n",
       "      <th>lat</th>\n",
       "      <th>long</th>\n",
       "      <th>sqft_living15</th>\n",
       "      <th>sqft_lot15</th>\n",
       "    </tr>\n",
       "    <tr>\n",
       "      <th>id</th>\n",
       "      <th></th>\n",
       "      <th></th>\n",
       "      <th></th>\n",
       "      <th></th>\n",
       "      <th></th>\n",
       "      <th></th>\n",
       "      <th></th>\n",
       "      <th></th>\n",
       "      <th></th>\n",
       "      <th></th>\n",
       "      <th></th>\n",
       "      <th></th>\n",
       "      <th></th>\n",
       "      <th></th>\n",
       "      <th></th>\n",
       "      <th></th>\n",
       "      <th></th>\n",
       "      <th></th>\n",
       "      <th></th>\n",
       "      <th></th>\n",
       "    </tr>\n",
       "  </thead>\n",
       "  <tbody>\n",
       "    <tr>\n",
       "      <th>7129300520</th>\n",
       "      <td>20141013T000000</td>\n",
       "      <td>221900.0</td>\n",
       "      <td>3</td>\n",
       "      <td>1.00</td>\n",
       "      <td>1180</td>\n",
       "      <td>5650</td>\n",
       "      <td>1.0</td>\n",
       "      <td>0</td>\n",
       "      <td>0</td>\n",
       "      <td>3</td>\n",
       "      <td>7</td>\n",
       "      <td>1180</td>\n",
       "      <td>0</td>\n",
       "      <td>1955</td>\n",
       "      <td>0</td>\n",
       "      <td>98178</td>\n",
       "      <td>47.5112</td>\n",
       "      <td>-122.257</td>\n",
       "      <td>1340</td>\n",
       "      <td>5650</td>\n",
       "    </tr>\n",
       "    <tr>\n",
       "      <th>6414100192</th>\n",
       "      <td>20141209T000000</td>\n",
       "      <td>538000.0</td>\n",
       "      <td>3</td>\n",
       "      <td>2.25</td>\n",
       "      <td>2570</td>\n",
       "      <td>7242</td>\n",
       "      <td>2.0</td>\n",
       "      <td>0</td>\n",
       "      <td>0</td>\n",
       "      <td>3</td>\n",
       "      <td>7</td>\n",
       "      <td>2170</td>\n",
       "      <td>400</td>\n",
       "      <td>1951</td>\n",
       "      <td>1991</td>\n",
       "      <td>98125</td>\n",
       "      <td>47.7210</td>\n",
       "      <td>-122.319</td>\n",
       "      <td>1690</td>\n",
       "      <td>7639</td>\n",
       "    </tr>\n",
       "    <tr>\n",
       "      <th>5631500400</th>\n",
       "      <td>20150225T000000</td>\n",
       "      <td>180000.0</td>\n",
       "      <td>2</td>\n",
       "      <td>1.00</td>\n",
       "      <td>770</td>\n",
       "      <td>10000</td>\n",
       "      <td>1.0</td>\n",
       "      <td>0</td>\n",
       "      <td>0</td>\n",
       "      <td>3</td>\n",
       "      <td>6</td>\n",
       "      <td>770</td>\n",
       "      <td>0</td>\n",
       "      <td>1933</td>\n",
       "      <td>0</td>\n",
       "      <td>98028</td>\n",
       "      <td>47.7379</td>\n",
       "      <td>-122.233</td>\n",
       "      <td>2720</td>\n",
       "      <td>8062</td>\n",
       "    </tr>\n",
       "    <tr>\n",
       "      <th>2487200875</th>\n",
       "      <td>20141209T000000</td>\n",
       "      <td>604000.0</td>\n",
       "      <td>4</td>\n",
       "      <td>3.00</td>\n",
       "      <td>1960</td>\n",
       "      <td>5000</td>\n",
       "      <td>1.0</td>\n",
       "      <td>0</td>\n",
       "      <td>0</td>\n",
       "      <td>5</td>\n",
       "      <td>7</td>\n",
       "      <td>1050</td>\n",
       "      <td>910</td>\n",
       "      <td>1965</td>\n",
       "      <td>0</td>\n",
       "      <td>98136</td>\n",
       "      <td>47.5208</td>\n",
       "      <td>-122.393</td>\n",
       "      <td>1360</td>\n",
       "      <td>5000</td>\n",
       "    </tr>\n",
       "    <tr>\n",
       "      <th>1954400510</th>\n",
       "      <td>20150218T000000</td>\n",
       "      <td>510000.0</td>\n",
       "      <td>3</td>\n",
       "      <td>2.00</td>\n",
       "      <td>1680</td>\n",
       "      <td>8080</td>\n",
       "      <td>1.0</td>\n",
       "      <td>0</td>\n",
       "      <td>0</td>\n",
       "      <td>3</td>\n",
       "      <td>8</td>\n",
       "      <td>1680</td>\n",
       "      <td>0</td>\n",
       "      <td>1987</td>\n",
       "      <td>0</td>\n",
       "      <td>98074</td>\n",
       "      <td>47.6168</td>\n",
       "      <td>-122.045</td>\n",
       "      <td>1800</td>\n",
       "      <td>7503</td>\n",
       "    </tr>\n",
       "  </tbody>\n",
       "</table>\n",
       "</div>"
      ]
     },
     "execution_count": 2,
     "metadata": {},
     "output_type": "execute_result"
    }
   ],
   "execution_count": 2
  },
  {
   "metadata": {
    "ExecuteTime": {
     "end_time": "2025-06-08T20:51:37.163182Z",
     "start_time": "2025-06-08T20:51:37.013443Z"
    }
   },
   "cell_type": "code",
   "source": [
    "from sklearn.model_selection import train_test_split\n",
    "\n",
    "train_data, test_data = train_test_split(full_data,train_size=.8,test_size=.2,random_state=0)"
   ],
   "id": "c014a25dff8f0787",
   "outputs": [],
   "execution_count": 3
  },
  {
   "metadata": {},
   "cell_type": "raw",
   "source": [
    "\n",
    "Learning a multiple regression model\n",
    "\n",
    "Recall we can use the following code to learn a multiple regression model predicting 'price' based on the following features: example_features = ['sqft_living', 'bedrooms', 'bathrooms'] on training data with the following code:\n"
   ],
   "id": "c0d96b82b5c1aeda"
  },
  {
   "metadata": {
    "ExecuteTime": {
     "end_time": "2025-06-08T20:57:46.510345Z",
     "start_time": "2025-06-08T20:57:46.500056Z"
    }
   },
   "cell_type": "code",
   "source": [
    "def extract_features(data, features_title):\n",
    "    features = [data[title].values for title in features_title ]\n",
    "    #stack them for a 2d [examples,properties]\n",
    "    return np.stack(features,axis=1)"
   ],
   "id": "a7fb5898474086c9",
   "outputs": [],
   "execution_count": 8
  },
  {
   "metadata": {
    "ExecuteTime": {
     "end_time": "2025-06-08T20:54:20.875179Z",
     "start_time": "2025-06-08T20:54:20.863171Z"
    }
   },
   "cell_type": "code",
   "source": "train_data.columns",
   "id": "98eae4307af5e758",
   "outputs": [
    {
     "data": {
      "text/plain": [
       "Index(['date', 'price', 'bedrooms', 'bathrooms', 'sqft_living', 'sqft_lot',\n",
       "       'floors', 'waterfront', 'view', 'condition', 'grade', 'sqft_above',\n",
       "       'sqft_basement', 'yr_built', 'yr_renovated', 'zipcode', 'lat', 'long',\n",
       "       'sqft_living15', 'sqft_lot15'],\n",
       "      dtype='object')"
      ]
     },
     "execution_count": 5,
     "metadata": {},
     "output_type": "execute_result"
    }
   ],
   "execution_count": 5
  },
  {
   "metadata": {
    "ExecuteTime": {
     "end_time": "2025-06-08T20:58:14.611718Z",
     "start_time": "2025-06-08T20:58:14.596764Z"
    }
   },
   "cell_type": "code",
   "source": [
    "from sklearn.linear_model import LinearRegression\n",
    "\n",
    "example_features_title = ['sqft_living','bedrooms', 'bathrooms' ]\n",
    "#extract and stack\n",
    "example_features = extract_features(train_data,example_features_title)\n",
    "example_labels=train_data['price']\n",
    "\n",
    "example_model = LinearRegression().fit(example_features,example_labels)"
   ],
   "id": "2cc5d666696716cd",
   "outputs": [],
   "execution_count": 9
  },
  {
   "metadata": {
    "ExecuteTime": {
     "end_time": "2025-06-08T20:59:27.850444Z",
     "start_time": "2025-06-08T20:59:27.836924Z"
    }
   },
   "cell_type": "code",
   "source": [
    "#Now that we have fitted the model we can extract the regression weights (coefficients) from your model as follows:\n",
    "\n",
    "example_weight_summary = example_model.coef_\n",
    "print(example_weight_summary)\n"
   ],
   "id": "2ee1669b9a6c7f8a",
   "outputs": [
    {
     "name": "stdout",
     "output_type": "stream",
     "text": [
      "[   313.17055038 -56754.66651422   6887.71910816]\n"
     ]
    }
   ],
   "execution_count": 10
  },
  {
   "metadata": {},
   "cell_type": "raw",
   "source": [
    "\n",
    "Making Predictions\n",
    "\n",
    "In the gradient descent notebook we use numpy to do our regression. In this book we will use existing sklearn model's interface functions to analyze multiple regressions.\n",
    "\n",
    "Recall that once a model is built we can use the predict function to find the predicted values for data we pass. For example using the example model above:\n"
   ],
   "id": "89ee11cd226a366d"
  },
  {
   "metadata": {
    "ExecuteTime": {
     "end_time": "2025-06-08T21:00:34.079929Z",
     "start_time": "2025-06-08T21:00:34.071440Z"
    }
   },
   "cell_type": "code",
   "source": [
    "example_predictions = example_model.predict(example_features)\n",
    "example_predictions[0]"
   ],
   "id": "7420fee970b515d6",
   "outputs": [
    {
     "data": {
      "text/plain": [
       "395813.49880289414"
      ]
     },
     "execution_count": 11,
     "metadata": {},
     "output_type": "execute_result"
    }
   ],
   "execution_count": 11
  },
  {
   "metadata": {},
   "cell_type": "raw",
   "source": [
    "\n",
    "Compute RSS\n",
    "\n",
    "Now that we can make predictions given the model, let's write a function to compute the RSS of the model. Complete the function below to calculate RSS given the model, data, and the outcome.\n"
   ],
   "id": "62443a87475d9763"
  },
  {
   "metadata": {
    "ExecuteTime": {
     "end_time": "2025-06-08T21:06:40.766560Z",
     "start_time": "2025-06-08T21:06:40.760381Z"
    }
   },
   "cell_type": "code",
   "source": [
    "def get_residual_sum_of_squars(model,data,outcome):\n",
    "    #first get predictions\n",
    "    predicted_outcome = model.predict(data)\n",
    "    #then compute residuals\n",
    "    RSS = np.sum(np.square(predicted_outcome - outcome))\n",
    "    return RSS"
   ],
   "id": "eecabb56adf4817d",
   "outputs": [],
   "execution_count": 18
  },
  {
   "metadata": {
    "ExecuteTime": {
     "end_time": "2025-06-08T21:09:51.599069Z",
     "start_time": "2025-06-08T21:09:51.588422Z"
    }
   },
   "cell_type": "code",
   "source": [
    "#Test your function by computing the RSS on TEST data for the example model:\n",
    "\n",
    "example_test_features = extract_features(test_data,example_features_title)\n",
    "example_test_labels = test_data['price']\n",
    "rss_example_test = get_residual_sum_of_squars(example_model,example_test_features,example_test_labels)\n",
    "print(rss_example_test)"
   ],
   "id": "a2141476645765a8",
   "outputs": [
    {
     "name": "stdout",
     "output_type": "stream",
     "text": [
      "259213572106085.34\n"
     ]
    }
   ],
   "execution_count": 19
  },
  {
   "metadata": {},
   "cell_type": "raw",
   "source": [
    "\n",
    "Create some new features\n",
    "\n",
    "Although we often think of multiple regression as including multiple different features (e.g. # of bedrooms, squarefeet, and # of bathrooms) but we can also consider transformations of existing features e.g. the log of the squarefeet or even \"interaction\" features such as the product of bedrooms and bathrooms.\n",
    "\n",
    "                                                                                         For now, we will use the default logarithm function of python to create a new feature. You must import it from the math library.\n"
   ],
   "id": "94f34d192d24d309"
  },
  {
   "metadata": {
    "ExecuteTime": {
     "end_time": "2025-06-08T21:11:41.209808Z",
     "start_time": "2025-06-08T21:11:41.204837Z"
    }
   },
   "cell_type": "code",
   "source": "from math import log",
   "id": "1564f23237db100a",
   "outputs": [],
   "execution_count": 20
  },
  {
   "metadata": {},
   "cell_type": "raw",
   "source": [
    "\n",
    "\n",
    "Next create the following 4 new features as column in both TEST and TRAIN data:\n",
    "\n",
    "bedrooms_squared = bedrooms*bedrooms\n",
    "bed_bath_rooms = bedrooms*bathrooms\n",
    "log_sqft_living = log(sqft_living)\n",
    "lat_plus_long = lat + long\n",
    "\n",
    "As an example here's the first one:\n"
   ],
   "id": "ae7698cf922ec2df"
  },
  {
   "metadata": {
    "ExecuteTime": {
     "end_time": "2025-06-08T21:11:46.991082Z",
     "start_time": "2025-06-08T21:11:46.968624Z"
    }
   },
   "cell_type": "code",
   "source": [
    "train_data['bedrooms_squared'] = train_data['bedrooms'].map(lambda cell:cell**2)\n",
    "test_data['bedrooms_squared'] = test_data['bedrooms'].map(lambda cell:cell**2)"
   ],
   "id": "49a711c58fa1a20a",
   "outputs": [],
   "execution_count": 21
  },
  {
   "metadata": {
    "ExecuteTime": {
     "end_time": "2025-06-08T21:12:39.645682Z",
     "start_time": "2025-06-08T21:12:39.441717Z"
    }
   },
   "cell_type": "code",
   "source": [
    "train_data['bed_bath_rooms'] = train_data[['bedrooms', 'bathrooms']].apply(lambda row: row.bedrooms*row.bathrooms, axis=1)\n",
    "test_data['bed_bath_rooms'] = test_data[['bedrooms', 'bathrooms']].apply(lambda row: row.bedrooms*row.bathrooms, axis=1)\n",
    "train_data['log_sqft_living'] = train_data['sqft_living'].map(lambda x: log(x))\n",
    "test_data['log_sqft_living'] = test_data['sqft_living'].map(lambda x: log(x))\n",
    "train_data['lat_plus_long'] = train_data[['lat', \"long\"]].agg(sum, axis=1)\n",
    "test_data['lat_plus_long'] = test_data[['lat', \"long\"]].agg(sum, axis=1)"
   ],
   "id": "34449ccbd0baebf8",
   "outputs": [
    {
     "name": "stderr",
     "output_type": "stream",
     "text": [
      "C:\\Users\\gyanr\\AppData\\Local\\Temp\\ipykernel_72092\\4118047811.py:5: FutureWarning: The provided callable <built-in function sum> is currently using DataFrame.sum. In a future version of pandas, the provided callable will be used directly. To keep current behavior pass the string \"sum\" instead.\n",
      "  train_data['lat_plus_long'] = train_data[['lat', \"long\"]].agg(sum, axis=1)\n",
      "C:\\Users\\gyanr\\AppData\\Local\\Temp\\ipykernel_72092\\4118047811.py:6: FutureWarning: The provided callable <built-in function sum> is currently using DataFrame.sum. In a future version of pandas, the provided callable will be used directly. To keep current behavior pass the string \"sum\" instead.\n",
      "  test_data['lat_plus_long'] = test_data[['lat', \"long\"]].agg(sum, axis=1)\n"
     ]
    }
   ],
   "execution_count": 22
  },
  {
   "metadata": {},
   "cell_type": "raw",
   "source": [
    "\n",
    "\n",
    "Squaring bedrooms will increase the separation between not many bedrooms (e.g. 1) and lots of bedrooms (e.g. 4) since 1^2 = 1 but 4^2 = 16. Consequently this feature will mostly affect houses with many bedrooms.\n",
    "bedrooms times bathrooms gives what's called an \"interaction\" feature. It is large when both of them are large.\n",
    "Taking the log of squarefeet has the effect of bringing large values closer together and spreading out small values.\n",
    "Adding latitude to longitude is totally non-sensical but we will do it anyway (you'll see why)\n",
    "\n",
    "Quiz Question: What is the mean (arithmetic average) value of your 4 new features on TEST data? (round to 2 digits)"
   ],
   "id": "f092a4954fe35981"
  },
  {
   "metadata": {},
   "cell_type": "markdown",
   "source": "",
   "id": "ca9399655f89b305"
  },
  {
   "metadata": {
    "ExecuteTime": {
     "end_time": "2025-06-08T21:15:59.211654Z",
     "start_time": "2025-06-08T21:15:59.196514Z"
    }
   },
   "cell_type": "code",
   "source": [
    "\n",
    "\n",
    "# the pandas.Series have a function called exactly that.\n",
    "print(round(test_data.bedrooms_squared.mean(), 2))\n",
    "print(round(test_data.bed_bath_rooms.mean(), 2))\n",
    "print(round(test_data.log_sqft_living.mean(), 2))\n",
    "print(round(test_data.lat_plus_long.mean(), 2))\n",
    "\n"
   ],
   "id": "25f483415dd53538",
   "outputs": [
    {
     "name": "stdout",
     "output_type": "stream",
     "text": [
      "12.21\n",
      "7.45\n",
      "7.55\n",
      "-74.65\n"
     ]
    }
   ],
   "execution_count": 25
  },
  {
   "metadata": {},
   "cell_type": "raw",
   "source": [
    "\n",
    "Learning Multiple Models\n",
    "\n",
    "Now we will learn the weights for three (nested) models for predicting house prices. The first model will have the fewest features the second model will add one more feature and the third will add a few more:\n",
    "\n",
    "    Model 1: squarefeet, # bedrooms, # bathrooms, latitude & longitude\n",
    "    Model 2: add bedrooms*bathrooms\n",
    "    Model 3: Add log squarefeet, bedrooms squared, and the (nonsensical) latitude + longitude\n",
    "\n"
   ],
   "id": "550dbccaaa50e1d0"
  },
  {
   "metadata": {
    "ExecuteTime": {
     "end_time": "2025-06-08T21:19:42.364357Z",
     "start_time": "2025-06-08T21:19:42.353474Z"
    }
   },
   "cell_type": "code",
   "source": [
    "model_1_features = ['sqft_living', 'bedrooms', 'bathrooms', 'lat', 'long']\n",
    "model_2_features = model_1_features + ['bed_bath_rooms']\n",
    "model_3_features = model_2_features + ['bedrooms_squared','log_sqft_living','lat_plus_long']"
   ],
   "id": "8e4bf3cbc5171342",
   "outputs": [],
   "execution_count": 26
  },
  {
   "metadata": {},
   "cell_type": "raw",
   "source": [
    "\n",
    "\n",
    "Now that you have the features, learn the weights for the three different models for predicting target = 'price' using sklearn's LinearRegression and look at the value of the weights/coefficients:\n",
    "\n",
    "Note: regression models in this course often have coef_\n"
   ],
   "id": "68752064a4e61749"
  },
  {
   "metadata": {
    "ExecuteTime": {
     "end_time": "2025-06-08T21:23:06.739474Z",
     "start_time": "2025-06-08T21:23:06.713237Z"
    }
   },
   "cell_type": "code",
   "source": [
    "## Learn the three models. Extract the features and fit your models onto respective features.\n",
    "# If a goldfish is reading, see the example_model above\n",
    "features_1 = extract_features(train_data,model_1_features)\n",
    "features_2 = extract_features(train_data,model_2_features)\n",
    "features_3 = extract_features(train_data,model_3_features)\n",
    "output_labels = train_data['price']\n",
    "\n",
    "model_1=LinearRegression().fit(features_1,output_labels)\n",
    "model_2=LinearRegression().fit(features_2,output_labels)\n",
    "model_3=LinearRegression().fit(features_3,output_labels)\n"
   ],
   "id": "4e25b0c0a6824089",
   "outputs": [],
   "execution_count": 27
  },
  {
   "metadata": {
    "ExecuteTime": {
     "end_time": "2025-06-08T21:24:50.384209Z",
     "start_time": "2025-06-08T21:24:50.364091Z"
    }
   },
   "cell_type": "code",
   "source": "print(f\"Model-1= {model_1.coef_}, Model-2={model_2.coef_}, Model-3={model_3.coef_}\")",
   "id": "50f68fe5354d965d",
   "outputs": [
    {
     "name": "stdout",
     "output_type": "stream",
     "text": [
      "Model-1= [ 3.12942010e+02 -5.30962691e+04  1.47770428e+04  6.53983343e+05\n",
      " -3.25707336e+05], Model-2=[ 3.06819573e+02 -1.04604718e+05 -7.01815289e+04  6.50590952e+05\n",
      " -3.09965751e+05  2.49441497e+04], Model-3=[ 5.37808086e+02  2.78047910e+03  1.01363766e+05  5.30798406e+05\n",
      " -4.09655435e+05 -1.81822552e+04  7.24579939e+02 -5.71030023e+05\n",
      "  1.21142971e+05]\n"
     ]
    }
   ],
   "execution_count": 33
  },
  {
   "metadata": {},
   "cell_type": "raw",
   "source": [
    "\n",
    "Comparing multiple models\n",
    "\n",
    "Now that you've learned three models and extracted the model weights we want to evaluate which model is best.\n",
    "\n",
    "First use your functions from earlier to compute the RSS on TRAINING Data for each of the three models.\n"
   ],
   "id": "63ef3040b2da7054"
  },
  {
   "metadata": {
    "ExecuteTime": {
     "end_time": "2025-06-08T21:26:51.588787Z",
     "start_time": "2025-06-08T21:26:51.580025Z"
    }
   },
   "cell_type": "code",
   "source": [
    "print(f\"Model 1 RSS: {get_residual_sum_of_squars(model_1,features_1,output_labels)}\")\n",
    "print(f\"Model 2 RSS: {get_residual_sum_of_squars(model_2,features_2,output_labels)}\")\n",
    "print(f\"Model 3 RSS: {get_residual_sum_of_squars(model_3,features_3,output_labels)}\")"
   ],
   "id": "f4afbc9d493b26ff",
   "outputs": [
    {
     "name": "stdout",
     "output_type": "stream",
     "text": [
      "Model 1 RSS: 979843597588329.5\n",
      "Model 2 RSS: 970799199729577.9\n",
      "Model 3 RSS: 913653644974958.1\n"
     ]
    }
   ],
   "execution_count": 34
  },
  {
   "metadata": {
    "ExecuteTime": {
     "end_time": "2025-06-08T21:28:20.787551Z",
     "start_time": "2025-06-08T21:28:20.770234Z"
    }
   },
   "cell_type": "code",
   "source": [
    "\n",
    "\n",
    "# Compute the RSS on TESTING data for each of the three models and display the values:\n",
    "features_1_test = extract_features(test_data, model_1_features)\n",
    "features_2_test = extract_features(test_data, model_2_features)\n",
    "features_3_test = extract_features(test_data, model_3_features)\n",
    "output_labels_test = test_data['price']\n",
    "print(\"Model 1 RSS: \", get_residual_sum_of_squars(model_1, features_1_test, output_labels_test))\n",
    "print(\"Model 2 RSS: \", get_residual_sum_of_squars(model_2, features_2_test, output_labels_test))\n",
    "print(\"Model 3 RSS: \", get_residual_sum_of_squars(model_3, features_3_test, output_labels_test))\n",
    "\n"
   ],
   "id": "27b62891027911b9",
   "outputs": [
    {
     "name": "stdout",
     "output_type": "stream",
     "text": [
      "Model 1 RSS:  213487129319103.6\n",
      "Model 2 RSS:  210778544168942.5\n",
      "Model 3 RSS:  203972051917606.94\n"
     ]
    }
   ],
   "execution_count": 35
  },
  {
   "metadata": {},
   "cell_type": "code",
   "outputs": [],
   "execution_count": null,
   "source": "",
   "id": "f0cbe8e4bad5fe21"
  },
  {
   "metadata": {},
   "cell_type": "code",
   "outputs": [],
   "execution_count": null,
   "source": "",
   "id": "9490f170e5625e62"
  },
  {
   "metadata": {},
   "cell_type": "code",
   "outputs": [],
   "execution_count": null,
   "source": "",
   "id": "c0fa2fe184076073"
  },
  {
   "metadata": {},
   "cell_type": "code",
   "outputs": [],
   "execution_count": null,
   "source": "",
   "id": "559d0828fdc92955"
  },
  {
   "metadata": {},
   "cell_type": "code",
   "outputs": [],
   "execution_count": null,
   "source": "",
   "id": "86f7a3fbfdd96bc3"
  },
  {
   "metadata": {},
   "cell_type": "code",
   "outputs": [],
   "execution_count": null,
   "source": "",
   "id": "215de8ca7bc36517"
  },
  {
   "metadata": {},
   "cell_type": "code",
   "outputs": [],
   "execution_count": null,
   "source": "",
   "id": "7d7e508c631ca4bb"
  },
  {
   "metadata": {},
   "cell_type": "code",
   "outputs": [],
   "execution_count": null,
   "source": "",
   "id": "dfda3708ef768ee7"
  },
  {
   "metadata": {},
   "cell_type": "code",
   "outputs": [],
   "execution_count": null,
   "source": "",
   "id": "afb3cf5ab07ee5d9"
  },
  {
   "metadata": {},
   "cell_type": "code",
   "outputs": [],
   "execution_count": null,
   "source": "",
   "id": "a9437837b60fae11"
  },
  {
   "metadata": {},
   "cell_type": "code",
   "outputs": [],
   "execution_count": null,
   "source": "",
   "id": "ad9b90a046d1fac"
  },
  {
   "metadata": {},
   "cell_type": "code",
   "outputs": [],
   "execution_count": null,
   "source": "",
   "id": "549f47b4ea2a7bf6"
  },
  {
   "metadata": {},
   "cell_type": "code",
   "outputs": [],
   "execution_count": null,
   "source": "",
   "id": "7899d9c8798fcfd4"
  },
  {
   "metadata": {},
   "cell_type": "code",
   "outputs": [],
   "execution_count": null,
   "source": "",
   "id": "cd3655cbbc73d010"
  },
  {
   "metadata": {},
   "cell_type": "code",
   "outputs": [],
   "execution_count": null,
   "source": "",
   "id": "9796215ebde58937"
  },
  {
   "metadata": {},
   "cell_type": "code",
   "outputs": [],
   "execution_count": null,
   "source": "",
   "id": "f369d8611797224a"
  },
  {
   "metadata": {},
   "cell_type": "code",
   "outputs": [],
   "execution_count": null,
   "source": "",
   "id": "d48b22263057a364"
  },
  {
   "metadata": {},
   "cell_type": "code",
   "outputs": [],
   "execution_count": null,
   "source": "",
   "id": "2d3705e37ce4ebff"
  },
  {
   "metadata": {},
   "cell_type": "code",
   "outputs": [],
   "execution_count": null,
   "source": "",
   "id": "627ede53160d899a"
  },
  {
   "metadata": {},
   "cell_type": "code",
   "outputs": [],
   "execution_count": null,
   "source": "",
   "id": "949ea2b8fab8c98a"
  },
  {
   "metadata": {},
   "cell_type": "code",
   "outputs": [],
   "execution_count": null,
   "source": "",
   "id": "b1886068f074844c"
  },
  {
   "metadata": {},
   "cell_type": "code",
   "outputs": [],
   "execution_count": null,
   "source": "",
   "id": "87b20f844d78d019"
  },
  {
   "metadata": {},
   "cell_type": "code",
   "outputs": [],
   "execution_count": null,
   "source": "",
   "id": "ed38b633806065d2"
  },
  {
   "metadata": {},
   "cell_type": "code",
   "outputs": [],
   "execution_count": null,
   "source": "",
   "id": "bc29b27925c575db"
  },
  {
   "metadata": {},
   "cell_type": "code",
   "outputs": [],
   "execution_count": null,
   "source": "",
   "id": "69d42c3a6644b49d"
  },
  {
   "metadata": {},
   "cell_type": "code",
   "outputs": [],
   "execution_count": null,
   "source": "",
   "id": "18a1cc865dd88b7a"
  },
  {
   "metadata": {},
   "cell_type": "code",
   "outputs": [],
   "execution_count": null,
   "source": "",
   "id": "a56c0613120e1306"
  },
  {
   "metadata": {},
   "cell_type": "code",
   "outputs": [],
   "execution_count": null,
   "source": "",
   "id": "bb9971d640a76d35"
  },
  {
   "metadata": {},
   "cell_type": "code",
   "outputs": [],
   "execution_count": null,
   "source": "",
   "id": "d707a50a8965256e"
  },
  {
   "metadata": {},
   "cell_type": "code",
   "outputs": [],
   "execution_count": null,
   "source": "",
   "id": "9d5e1cabc7a29873"
  },
  {
   "metadata": {},
   "cell_type": "code",
   "outputs": [],
   "execution_count": null,
   "source": "",
   "id": "ac35f939568eb839"
  },
  {
   "metadata": {},
   "cell_type": "code",
   "outputs": [],
   "execution_count": null,
   "source": "",
   "id": "874faa41bfe991c"
  },
  {
   "metadata": {},
   "cell_type": "code",
   "outputs": [],
   "execution_count": null,
   "source": "",
   "id": "16a64fd259f9a2bb"
  },
  {
   "metadata": {},
   "cell_type": "code",
   "outputs": [],
   "execution_count": null,
   "source": "",
   "id": "f9e67c6d7d39733f"
  },
  {
   "metadata": {},
   "cell_type": "code",
   "outputs": [],
   "execution_count": null,
   "source": "",
   "id": "808d90d1d0f4383c"
  }
 ],
 "metadata": {
  "kernelspec": {
   "display_name": "Python 3",
   "language": "python",
   "name": "python3"
  },
  "language_info": {
   "codemirror_mode": {
    "name": "ipython",
    "version": 2
   },
   "file_extension": ".py",
   "mimetype": "text/x-python",
   "name": "python",
   "nbconvert_exporter": "python",
   "pygments_lexer": "ipython2",
   "version": "2.7.6"
  }
 },
 "nbformat": 4,
 "nbformat_minor": 5
}
